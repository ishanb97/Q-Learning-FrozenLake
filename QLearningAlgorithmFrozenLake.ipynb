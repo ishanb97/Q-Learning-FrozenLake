{
 "cells": [
  {
   "cell_type": "markdown",
   "metadata": {
    "colab_type": "text",
    "id": "8Srzkmq5n26F"
   },
   "source": [
    "# Imports"
   ]
  },
  {
   "cell_type": "code",
   "execution_count": 0,
   "metadata": {
    "colab": {},
    "colab_type": "code",
    "id": "g3Flghvtn26J"
   },
   "outputs": [],
   "source": [
    "import gym\n",
    "import numpy as np\n",
    "import random\n",
    "import matplotlib.pyplot as plt\n",
    "import time \n",
    "from IPython.display import clear_output"
   ]
  },
  {
   "cell_type": "markdown",
   "metadata": {
    "colab_type": "text",
    "id": "3uQ_v6len26Y"
   },
   "source": [
    "# Build the enviroment\n",
    "We use the openAI \"gym\" to load an pre build game and simple API that allows us to interract with the enviroment"
   ]
  },
  {
   "cell_type": "code",
   "execution_count": 0,
   "metadata": {
    "colab": {},
    "colab_type": "code",
    "id": "DKrDhvmqn26b"
   },
   "outputs": [],
   "source": [
    "env = gym.make(\"FrozenLake-v0\")\n",
    "\n",
    "action_space_size = env.action_space.n\n",
    "state_space_size = env.observation_space.n\n"
   ]
  },
  {
   "cell_type": "markdown",
   "metadata": {
    "colab_type": "text",
    "id": "-cDLP-E0n26n"
   },
   "source": [
    "Next we build a Q-table with height of the number of all possible states in the game and width of the number of actions we can perform."
   ]
  },
  {
   "cell_type": "code",
   "execution_count": 3,
   "metadata": {
    "colab": {
     "base_uri": "https://localhost:8080/",
     "height": 289
    },
    "colab_type": "code",
    "id": "LWfs0bfyn26q",
    "outputId": "2f967044-d040-4173-f77a-cc11793c9857",
    "scrolled": true
   },
   "outputs": [
    {
     "name": "stdout",
     "output_type": "stream",
     "text": [
      "[[0. 0. 0. 0.]\n",
      " [0. 0. 0. 0.]\n",
      " [0. 0. 0. 0.]\n",
      " [0. 0. 0. 0.]\n",
      " [0. 0. 0. 0.]\n",
      " [0. 0. 0. 0.]\n",
      " [0. 0. 0. 0.]\n",
      " [0. 0. 0. 0.]\n",
      " [0. 0. 0. 0.]\n",
      " [0. 0. 0. 0.]\n",
      " [0. 0. 0. 0.]\n",
      " [0. 0. 0. 0.]\n",
      " [0. 0. 0. 0.]\n",
      " [0. 0. 0. 0.]\n",
      " [0. 0. 0. 0.]\n",
      " [0. 0. 0. 0.]]\n"
     ]
    }
   ],
   "source": [
    "Q_table = np.zeros((state_space_size, action_space_size))\n",
    "\n",
    "print(Q_table)"
   ]
  },
  {
   "cell_type": "markdown",
   "metadata": {
    "colab_type": "text",
    "id": "lGBxQBgin27B"
   },
   "source": [
    "# Hyper parameters\n",
    "\n",
    "Here we define all the variables that can be changed to influence the learning process"
   ]
  },
  {
   "cell_type": "code",
   "execution_count": 0,
   "metadata": {
    "colab": {},
    "colab_type": "code",
    "id": "GzCksJbbn27I"
   },
   "outputs": [],
   "source": [
    "num_of_episodes = 20000\n",
    "max_steps_per_episode = 200\n",
    "\n",
    "learning_rate = 0.1\n",
    "discount_rate = 0.99\n",
    "\n",
    "exploration_rate = 1"
   ]
  },
  {
   "cell_type": "markdown",
   "metadata": {
    "colab_type": "text",
    "id": "Lmn-0T6En27U"
   },
   "source": [
    "# The training process\n",
    "\n",
    "The training process is based on two main loops. In the first loop we go through all episodes and in the inner one we go trough indvidual episodes including taking the steps and getting rewards. After every step we get an reward from the enviroment and we update the Q-table.\n",
    "\n",
    "We have an exploration_rate that definis how likely it is for our agent to take action based on exploration or explotation. We start with exploration_rate being number of \"1\" and after each episode we update the number with logarithm function so that it goes down to zero pretty quickly and the agent only exploits the enviroment."
   ]
  },
  {
   "cell_type": "code",
   "execution_count": 0,
   "metadata": {
    "colab": {},
    "colab_type": "code",
    "id": "wkvxObUfn27X"
   },
   "outputs": [],
   "source": [
    "\n",
    "rewards_of_all_episodes = []\n",
    "\n",
    "for episode in range(num_of_episodes):\n",
    "    state = env.reset()\n",
    "        \n",
    "    done = False\n",
    "    rewards_current_episode = 0\n",
    "    \n",
    "    for step in range(max_steps_per_episode):\n",
    "        \n",
    "        random_number = random.uniform(0,1)\n",
    "        \n",
    "        if random_number > exploration_rate:\n",
    "            action = np.argmax(Q_table[state,:]) \n",
    "            \n",
    "        else:\n",
    "            action = env.action_space.sample() \n",
    "        \n",
    "        new_state, reward, done, info = env.step(action)\n",
    "\n",
    "        Q_table[state, action] = Q_table[state, action] * (1 - learning_rate) \\\n",
    "        + learning_rate * (reward + discount_rate * np.max(Q_table[new_state,:]))\n",
    "\n",
    "        state = new_state\n",
    "        rewards_current_episode = rewards_current_episode + reward\n",
    "        \n",
    "        if done == True:\n",
    "            break\n",
    "                \n",
    "    exploration_rate = 1 - np.log(episode + 1) / np.log(num_of_episodes + 1)\n",
    "        \n",
    "    rewards_of_all_episodes.append(rewards_current_episode)   "
   ]
  },
  {
   "cell_type": "markdown",
   "metadata": {
    "colab_type": "text",
    "id": "AvpKSfS4n27i"
   },
   "source": [
    "# Visualize the training process\n",
    "\n",
    "We print out and plot the avarage reward per thousand episodes to see how our agent evolves over time."
   ]
  },
  {
   "cell_type": "code",
   "execution_count": 6,
   "metadata": {
    "colab": {
     "base_uri": "https://localhost:8080/",
     "height": 980
    },
    "colab_type": "code",
    "id": "FQUZiil5n27l",
    "outputId": "8a0e1403-e5e9-49d3-93d8-a74f77f630ae",
    "scrolled": true
   },
   "outputs": [
    {
     "name": "stdout",
     "output_type": "stream",
     "text": [
      "Average reward per thousand episodes \n",
      "\n",
      "1000 : 0.0\n",
      "2000 : 0.0\n",
      "3000 : 0.164\n",
      "4000 : 0.275\n",
      "5000 : 0.308\n",
      "6000 : 0.344\n",
      "7000 : 0.37\n",
      "8000 : 0.375\n",
      "9000 : 0.397\n",
      "10000 : 0.442\n",
      "11000 : 0.499\n",
      "12000 : 0.509\n",
      "13000 : 0.527\n",
      "14000 : 0.572\n",
      "15000 : 0.604\n",
      "16000 : 0.611\n",
      "17000 : 0.634\n",
      "18000 : 0.661\n",
      "19000 : 0.691\n",
      "20000 : 0.742\n"
     ]
    },
    {
     "data": {
      "image/png": "[encoded data removed]",
      "text/plain": [
       "<Figure size 720x288 with 1 Axes>"
      ]
     },
     "metadata": {
      "tags": []
     },
     "output_type": "display_data"
    },
    {
     "name": "stdout",
     "output_type": "stream",
     "text": [
      "\n",
      "\n",
      "Q Table:\n",
      "[[0.5873904  0.47636533 0.47576254 0.47639618]\n",
      " [0.31734082 0.34917446 0.35902323 0.53157417]\n",
      " [0.42214539 0.40360818 0.38238522 0.49162117]\n",
      " [0.26189939 0.27415709 0.2329129  0.4486205 ]\n",
      " [0.61458736 0.46318136 0.36131816 0.46788252]\n",
      " [0.         0.         0.         0.        ]\n",
      " [0.24399627 0.20349085 0.40926175 0.15106784]\n",
      " [0.         0.         0.         0.        ]\n",
      " [0.40988961 0.37498282 0.35740295 0.66922222]\n",
      " [0.49800974 0.7353637  0.53717556 0.5167442 ]\n",
      " [0.6249222  0.38514548 0.45536991 0.37398089]\n",
      " [0.         0.         0.         0.        ]\n",
      " [0.         0.         0.         0.        ]\n",
      " [0.59657458 0.42375176 0.82962775 0.59387853]\n",
      " [0.77449537 0.9232762  0.72183879 0.75683215]\n",
      " [0.         0.         0.         0.        ]]\n"
     ]
    }
   ],
   "source": [
    "rewards_per_thousand_episodes = np.split(np.array(rewards_of_all_episodes),\n",
    "                               num_of_episodes/1000)\n",
    "\n",
    "reward_value_list = []\n",
    "\n",
    "count = 1000\n",
    "print(\"Average reward per thousand episodes \\n\")\n",
    "for i in rewards_per_thousand_episodes:\n",
    "    print(count, \":\", str(sum(i) / 1000))\n",
    "    \n",
    "    current_reward_value = sum(i) / 1000\n",
    "    reward_value_list.append(current_reward_value)\n",
    "    count = count + 1000\n",
    "    \n",
    "    \n",
    "plt.figure(figsize=(10,4))\n",
    "plt.ylim(0,1)\n",
    "\n",
    "plt.plot(reward_value_list, 'b', label='Training loss')\n",
    "plt.xlabel('Episodes in thousands')\n",
    "plt.ylabel('Rewards')\n",
    "#plt.legend()\n",
    "plt.show()\n",
    "\n",
    "    \n",
    "\n",
    "print(\"\\n\")\n",
    "print(\"Q Table:\")\n",
    "print(Q_table)\n",
    "    "
   ]
  },
  {
   "cell_type": "markdown",
   "metadata": {
    "colab_type": "text",
    "id": "mvzpMSJHn27t"
   },
   "source": [
    "# Lets see our agent playing the game!"
   ]
  },
  {
   "cell_type": "code",
   "execution_count": 7,
   "metadata": {
    "colab": {
     "base_uri": "https://localhost:8080/",
     "height": 119
    },
    "colab_type": "code",
    "id": "x2eeR9hZn27v",
    "outputId": "0fbd7453-fdb5-4e10-d99b-5d1831198508"
   },
   "outputs": [
    {
     "name": "stdout",
     "output_type": "stream",
     "text": [
      "  (Down)\n",
      "SFFF\n",
      "FHFH\n",
      "FFFH\n",
      "HFF\u001b[41mG\u001b[0m\n",
      "You won the game!\n"
     ]
    }
   ],
   "source": [
    "\n",
    "for episode in range(3):\n",
    "    state = env.reset()\n",
    "    done = False\n",
    "    print(\"Episode\", episode+1, \"\\n\")\n",
    "    time.sleep(1)\n",
    "\n",
    "    for step in range(40):\n",
    "        clear_output(wait=True)\n",
    "        env.render()\n",
    "        time.sleep(0.4)\n",
    "        \n",
    "        action = np.argmax(Q_table[state,:])\n",
    "        new_state, reward, done, info = env.step(action)\n",
    "        \n",
    "        if done:\n",
    "            clear_output(wait=True)\n",
    "            env.render()\n",
    "            if reward == 1:\n",
    "                print(\"You won the game!\")\n",
    "                time.sleep(2)\n",
    "                \n",
    "            else:\n",
    "                print(\"You are dead!\")\n",
    "                time.sleep(2)\n",
    "            \n",
    "            clear_output(wait=True)\n",
    "            break\n",
    "        \n",
    "        state = new_state\n",
    "        \n",
    "        \n",
    "        \n",
    "env.close()"
   ]
  },
  {
   "cell_type": "code",
   "execution_count": 0,
   "metadata": {
    "colab": {},
    "colab_type": "code",
    "id": "00FyYn57n276"
   },
   "outputs": [],
   "source": []
  }
 ],
 "metadata": {
  "accelerator": "GPU",
  "colab": {
   "name": "Q_Learning_Algorithm.ipynb",
   "provenance": []
  },
  "kernelspec": {
   "display_name": "Python 3",
   "language": "python",
   "name": "python3"
  },
  "language_info": {
   "codemirror_mode": {
    "name": "ipython",
    "version": 3
   },
   "file_extension": ".py",
   "mimetype": "text/x-python",
   "name": "python",
   "nbconvert_exporter": "python",
   "pygments_lexer": "ipython3",
   "version": "3.6.4"
  }
 },
 "nbformat": 4,
 "nbformat_minor": 1
}
